{
 "cells": [
  {
   "attachments": {},
   "cell_type": "markdown",
   "metadata": {},
   "source": [
    "### Test Filter"
   ]
  },
  {
   "cell_type": "code",
   "execution_count": 8,
   "metadata": {},
   "outputs": [],
   "source": [
    "from transformers import AutoTokenizer\n",
    "import pprint"
   ]
  },
  {
   "cell_type": "code",
   "execution_count": 7,
   "metadata": {},
   "outputs": [],
   "source": [
    "examples = [\n",
    "    {\"sentText\": \"从海战和海损的实例来看，舰艇的损害主要表现在4个方面：一是舰艇破损进水，机电长①123，甚至倾覆或沉没；二是舰艇起火或爆炸；三是舰艇技术装备损坏；四是舰员被杀伤或毒害。在舰艇上，一切保障舰艇生命力的活动，称为舰艇损害管制，简称舰艇损管。舰艇损管主要是处置舰艇损害活动。《水面舰艇损害管制条例》规定：保障舰艇生命力是全体舰员共同的战斗职责；舰首长对全舰的损管工作实施组织指挥；机电长除领导本部门损管外，还应协助舰首长具体组织领导全舰性损管。因此，保障舰艇生命力的基本原则是全体舰指挥员必须掌握的，以便在平时能正确运用生命力观点分析掌握本舰艇的生命力状况，充分发挥其优点，避免和弥补其弱点，使舰艇具有最大的抵抗损害的能力，能正确地向舰员进行保障舰艇生命力方面的教育和组织损管训练。在舰艇发生损害的情况下，能熟练地运用保障舰艇生命力的基本原则和方法，沉着地组织领导舰员与破损灾害作斗争，取得损管的成功和战斗的胜利。例如在发生火灾后，利用构造上的防火防爆设施灭火装备和器材，限制火灾的蔓延，舰员合理发挥舰上防火防爆设施和灭火装备器材的作用，快速有效地消灭火灾，或将火灾造成的损失降至最低程度。同时，舰艇在战时受武器攻击或因海损事故而引起舰体破损进水\",\n",
    "        \"relations\": [\n",
    "            {\"em1Text\": \"舰首长\", \"em2Text\": \"保障舰艇生命力\", \"label\": \"职责\"},\n",
    "            {\"em1Text\": \"舰首长\", \"em2Text\": \"机电长\", \"label\": \"同事\"},\n",
    "            {\"em1Text\": \"舰首长\", \"em2Text\": \"机电长\", \"label\": \"下属\"},\n",
    "            {\"em1Text\": \"舰首长\", \"em2Text\": \"机电长\", \"label\": \"业务伙伴\"},\n",
    "            {\"em1Text\": \"舰首长\", \"em2Text\": \"123\", \"label\": \"业务伙伴\"}\n",
    "        ]\n",
    "    }\n",
    "]\n"
   ]
  },
  {
   "cell_type": "code",
   "execution_count": 13,
   "metadata": {},
   "outputs": [
    {
     "name": "stdout",
     "output_type": "stream",
     "text": [
      "object not in sentText\n",
      "object ['123']\n",
      "sentText ['从', '海', '战', '和', '海', '损', '的', '实', '例', '来', '看', '，', '舰', '艇', '的', '损', '害', '主', '要', '表', '现', '在', '4', '个', '方', '面', '：', '一', '是', '舰', '艇', '破', '损', '进', '水', '，', '机', '电', '长', '①', '##123', '，', '甚', '至', '倾', '覆', '或', '沉', '没', '；', '二', '是', '舰', '艇', '起', '火', '或', '爆', '炸', '；', '三', '是', '舰', '艇', '技', '术', '装', '备', '损', '坏', '；', '四', '是', '舰', '员', '被', '杀', '伤', '或', '毒', '害', '。', '在', '舰', '艇', '上', '，', '一', '切', '保', '障', '舰', '艇', '生', '命', '力', '的', '活', '动', '，', '称', '为', '舰', '艇', '损', '害', '管', '制', '，', '简', '称', '舰', '艇', '损', '管', '。', '舰', '艇', '损', '管', '主', '要', '是', '处', '置', '舰', '艇', '损', '害', '活', '动', '。', '《', '水', '面', '舰', '艇', '损', '害', '管', '制', '条', '例', '》', '规', '定', '：', '保', '障', '舰', '艇', '生', '命', '力', '是', '全', '体', '舰', '员', '共', '同', '的', '战', '斗', '职', '责', '；', '舰', '首', '长', '对', '全', '舰', '的', '损', '管', '工', '作', '实', '施', '组', '织', '指', '挥', '；', '机', '电', '长', '除', '领', '导', '本', '部', '门', '损', '管', '外', '，', '还', '应', '协', '助', '舰', '首', '长', '具', '体', '组', '织', '领', '导', '全', '舰', '性', '损', '管', '。', '因', '此', '，', '保', '障', '舰', '艇', '生', '命', '力', '的', '基', '本', '原', '则', '是', '全', '体', '舰', '指', '挥', '员', '必', '须', '掌', '握', '的', '，', '以', '便', '在', '平', '时', '能', '正', '确', '运', '用', '生', '命', '力', '观', '点', '分', '析', '掌', '握', '本', '舰', '艇', '的', '生', '命', '力', '状', '况', '，', '充', '分', '发', '挥', '其', '优', '点', '，', '避', '免', '和', '弥', '补', '其', '弱', '点', '，', '使', '舰', '艇', '具', '有', '最', '大', '的', '抵', '抗', '损', '害', '的', '能', '力', '，', '能', '正', '确', '地', '向', '舰', '员', '进', '行', '保', '障', '舰', '艇', '生', '命', '力', '方', '面', '的', '教', '育', '和', '组', '织', '损', '管', '训', '练', '。', '在', '舰', '艇', '发', '生', '损', '害', '的', '情', '况', '下', '，', '能', '熟', '练', '地', '运', '用', '保', '障', '舰', '艇', '生', '命', '力', '的', '基', '本', '原', '则', '和', '方', '法', '，', '沉', '着', '地', '组', '织', '领', '导', '舰', '员', '与', '破', '损', '灾', '害', '作', '斗', '争', '，', '取', '得', '损', '管', '的', '成', '功', '和', '战', '斗', '的', '胜', '利', '。', '例', '如', '在', '发', '生', '火', '灾', '后', '，', '利', '用', '构', '造', '上', '的', '防', '火', '防', '爆', '设', '施', '灭', '火', '装', '备', '和', '器', '材', '，', '限', '制', '火', '灾', '的', '蔓', '延', '，', '舰', '员', '合', '理', '发', '挥', '舰', '上', '防', '火', '防', '爆', '设', '施', '和', '灭', '火', '装', '备', '器', '材', '的', '作', '用', '，', '快', '速', '有', '效', '地', '消', '灭', '火', '灾', '，', '或', '将', '火', '灾', '造', '成', '的', '损', '失', '降', '至', '最', '低', '程', '度', '。', '同', '时', '，', '舰', '艇', '在', '战', '时', '受', '武', '器', '攻', '击', '或', '因', '海', '损', '事', '故', '而', '引', '起', '舰', '体', '破', '损', '进', '水']\n",
      "[{'sentText': '从海战和海损的实例来看，舰艇的损害主要表现在4个方面：一是舰艇破损进水，机电长①123，甚至倾覆或沉没；二是舰艇起火或爆炸；三是舰艇技术装备损坏；四是舰员被杀伤或毒害。在舰艇上，一切保障舰艇生命力的活动，称为舰艇损害管制，简称舰艇损管。舰艇损管主要是处置舰艇损害活动。《水面舰艇损害管制条例》规定：保障舰艇生命力是全体舰员共同的战斗职责；舰首长对全舰的损管工作实施组织指挥；机电长除领导本部门损管外，还应协助舰首长具体组织领导全舰性损管。因此，保障舰艇生命力的基本原则是全体舰指挥员必须掌握的，以便在平时能正确运用生命力观点分析掌握本舰艇的生命力状况，充分发挥其优点，避免和弥补其弱点，使舰艇具有最大的抵抗损害的能力，能正确地向舰员进行保障舰艇生命力方面的教育和组织损管训练。在舰艇发生损害的情况下，能熟练地运用保障舰艇生命力的基本原则和方法，沉着地组织领导舰员与破损灾害作斗争，取得损管的成功和战斗的胜利。例如在发生火灾后，利用构造上的防火防爆设施灭火装备和器材，限制火灾的蔓延，舰员合理发挥舰上防火防爆设施和灭火装备器材的作用，快速有效地消灭火灾，或将火灾造成的损失降至最低程度。同时，舰艇在战时受武器攻击或因海损事故而引起舰体破损进水', 'relations': [{'em1Text': '舰首长', 'em2Text': '保障舰艇生命力', 'label': '职责', 'em1Start': 167, 'em1End': 169, 'em2Start': 89, 'em2End': 95}, {'em1Text': '舰首长', 'em2Text': '机电长', 'label': '同事', 'em1Start': 167, 'em1End': 169, 'em2Start': 36, 'em2End': 38}, {'em1Text': '舰首长', 'em2Text': '机电长', 'label': '下属', 'em1Start': 167, 'em1End': 169, 'em2Start': 36, 'em2End': 38}, {'em1Text': '舰首长', 'em2Text': '机电长', 'label': '业务伙伴', 'em1Start': 167, 'em1End': 169, 'em2Start': 36, 'em2End': 38}]}]\n"
     ]
    }
   ],
   "source": [
    "model_name_or_path = \"D:\\\\Document\\\\PLMs\\\\Bert\\\\bert_origin\\\\bert-base-chinese\"\n",
    "\n",
    "tokenizer = AutoTokenizer.from_pretrained(model_name_or_path)\n",
    "\n",
    "\n",
    "for example in examples:\n",
    "    sent_tokens = tokenizer.tokenize(example[\"sentText\"])\n",
    "\n",
    "    relations = []\n",
    "    for relation in example[\"relations\"]:\n",
    "        sub_tokens = tokenizer.tokenize(relation[\"em1Text\"])\n",
    "        obj_tokens = tokenizer.tokenize(relation[\"em2Text\"])\n",
    "\n",
    "        # 1. 判断 subject 是否在句子中，长短数组匹配问题\n",
    "        sub_start = -1\n",
    "        sub_end = -1\n",
    "        for i in range(len(sent_tokens) - len(sub_tokens) + 1):\n",
    "            if sent_tokens[i:i+len(sub_tokens)] == sub_tokens:\n",
    "                sub_start = i\n",
    "                sub_end = i + len(sub_tokens) - 1\n",
    "                break\n",
    "\n",
    "        # 2. 判断 object 是否在句子中，长短数组匹配问题\n",
    "        obj_start = -1\n",
    "        obj_end = -1\n",
    "        for i in range(len(sent_tokens) - len(obj_tokens) + 1):\n",
    "            if sent_tokens[i:i+len(obj_tokens)] == obj_tokens:\n",
    "                obj_start = i\n",
    "                obj_end = i + len(obj_tokens) - 1\n",
    "                break\n",
    "\n",
    "        # 3. 判断 subject 和 object 是否在句子中，长短数组匹配问题\n",
    "        if sub_start == -1:\n",
    "            print(\"subject not in sentText\")\n",
    "            print(\"subject\", sub_tokens)\n",
    "            print(\"sentText\", sent_tokens)\n",
    "            continue\n",
    "\n",
    "        if obj_start == -1:\n",
    "            print(\"object not in sentText\")\n",
    "            print(\"object\", obj_tokens)\n",
    "            print(\"sentText\", sent_tokens)\n",
    "            continue\n",
    "\n",
    "        relations.append({\n",
    "            \"em1Text\": relation[\"em1Text\"],\n",
    "            \"em2Text\": relation[\"em2Text\"],\n",
    "            \"label\": relation[\"label\"],\n",
    "            \"em1Start\": sub_start,\n",
    "            \"em1End\": sub_end,\n",
    "            \"em2Start\": obj_start,\n",
    "            \"em2End\": obj_end\n",
    "        })\n",
    "\n",
    "    example[\"relations\"] = relations\n",
    "\n",
    "print(examples)\n"
   ]
  },
  {
   "cell_type": "code",
   "execution_count": 4,
   "outputs": [
    {
     "name": "stdout",
     "output_type": "stream",
     "text": [
      "{'0': [[4, 55, 55, 55, 55], [0, 55, 55, 55, 55], [9, 55, 55, 55, 55]], '1': [[8, 57, 58, 57, 58], [3, 57, 58, 58, 58]], '2': [[0, 20, 21, 16, 18]]}\n"
     ]
    }
   ],
   "source": [
    "# import pprint\n",
    "prediction = {\"0\": [[4, 0.5495180487632751, 55, 55, 0.9999977350234985, 0.9999980926513672, 55, 55, 0.9999979734420776, 0.9999988079071045], [0, 0.9934440851211548, 55, 55, 0.9999932050704956, 0.9999946355819702, 55, 55, 0.9999977350234985, 0.9999984502792358], [9, 0.5417826175689697, 55, 55, 0.9999922513961792, 0.9999926090240479, 55, 55, 0.9999972581863403, 0.9999977350234985]], \"1\": [[8, 0.7148820757865906, 57, 58, 0.9999133348464966, 0.9998661279678345, 57, 58, 0.9976715445518494, 0.9998111128807068], [3, 0.848729133605957, 57, 58, 0.9999371767044067, 0.9994823932647705, 58, 58, 0.9999376535415649, 0.9999954700469971]], \"2\": [[0, 0.9082260131835938, 20, 21, 0.9988471269607544, 0.9999650716781616, 16, 18, 0.9998642206192017, 0.9999357461929321]]}\n",
    "\n",
    "\n",
    "test_pred_lines = {}\n",
    "for key, values in prediction.items():\n",
    "    pred_relation = []\n",
    "    for value in values:\n",
    "        pred_rel = value[0]\n",
    "        head_start_index = value[2]\n",
    "        head_end_index = value[3]\n",
    "        tail_start_index = value[6]\n",
    "        tail_end_index = value[7]\n",
    "        pred_relation.append([pred_rel, head_start_index, head_end_index, tail_start_index, tail_end_index])\n",
    "    test_pred_lines.update({key: pred_relation})\n",
    "\n",
    "print(test_pred_lines)"
   ],
   "metadata": {
    "collapsed": false
   }
  },
  {
   "cell_type": "markdown",
   "source": [],
   "metadata": {
    "collapsed": false
   }
  },
  {
   "cell_type": "code",
   "execution_count": null,
   "outputs": [],
   "source": [
    "test_line = {\"sentText\": \"In Queens , North Shore Towers , near the Nassau border , supplanted a golf course , and housing replaced a gravel quarry in Douglaston .\",\n",
    " \"relationMentions\": [{\"em1Text\": \"Queens\", \"em2Text\": \"Douglaston\", \"label\": \"/location/location/contains\"}, {\"em1Text\": \"Douglaston\", \"em2Text\": \"Queens\", \"label\": \"/location/neighborhood/neighborhood_of\"}]}\n",
    "\n",
    "{\"instance2index\": {\n",
    "    \"/location/location/contains\": 0,\n",
    "    \"/people/person/place_of_birth\": 1,\n",
    "    \"/business/person/company\": 2,\n",
    "    \"/people/person/place_lived\": 3,\n",
    "    \"/location/administrative_division/country\": 4,\n",
    "    \"/location/country/administrative_divisions\": 5,\n",
    "    \"/people/person/religion\": 6,\n",
    "    \"/people/person/nationality\": 7,\n",
    "    \"/people/person/children\": 8,\n",
    "\n",
    "  \"instances\": [\n",
    "    \"/location/location/contains\",\n",
    "    \"/people/person/place_of_birth\",\n",
    "    \"/business/person/company\",\n",
    "    \"/people/person/place_lived\",\n",
    "    \"/location/administrative_division/country\",\n",
    "    \"/location/country/administrative_divisions\",\n",
    "    \"/people/person/religion\",\n",
    "    \"/people/person/nationality\",\n",
    "  ]\n",
    "},"
   ],
   "metadata": {
    "collapsed": false
   }
  },
  {
   "cell_type": "code",
   "execution_count": null,
   "outputs": [],
   "source": [
    "# 假设 origin_lines 是一个包含字典的列表\n",
    "origin_lines = [{\"sentText\": \"In Queenss , North Shore Towers , near the Nassau border , supplanted a golf course , and housing replaced a gravel quarry in Douglaston .\",\n",
    "\"relationMentions\": [{\"em1Text\": \"Queens\", \"em2Text\": \"Douglaston\", \"label\": \"/location/location/contains\"},{\"em1Text\": \"Douglaston\", \"em2Text\": \"Queens\", \"label\": \"/location/neighborhood/neighborhood_of\"}]}],\n",
    "\n",
    "# 假设 pred_lines 是一个包含字典的列表\n",
    "pred_lines = [{\"relationMentions\": [{\"em1Text\": \"Queens\", \"em2Text\": \"Douglaston\", \"label\": \"/location/location/contains\"},\n",
    "                                    {\"em1Text\": \"Douglaston\", \"em2Text\": \"Queens\", \"label\": \"/location/neighborhood/neighborhood_of\"}]}\n",
    "              ]\n",
    "\n",
    "for origin_line in origin_lines:\n",
    "    # 获取 origin_line 中的 relationMentions 字典\n",
    "    origin_relation_mentions = origin_line[\"relationMentions\"]\n",
    "\n",
    "    # 使用 set 存储不重复的 relationMentions 字典\n",
    "    unique_relation_mentions = set(tuple(rm.items()) for rm in origin_relation_mentions)\n",
    "\n",
    "    # 遍历 pred_lines\n",
    "    for pred_line in pred_lines:\n",
    "        # 获取 pred_line 中的 relationMentions 字典\n",
    "        pred_relation_mentions = pred_line[\"relationMentions\"]\n",
    "\n",
    "        # 遍历 pred_relation_mentions 字典\n",
    "        for pred_rm in pred_relation_mentions:\n",
    "            # 如果 pred_rm 不在 unique_relation_mentions 中，则将其添加到 origin_relation_mentions 中\n",
    "            if tuple(pred_rm.items()) not in unique_relation_mentions:\n",
    "                origin_relation_mentions.append(pred_rm)\n",
    "                unique_relation_mentions.add(tuple(pred_rm.items()))\n",
    "\n",
    "    # 更新 origin_line 中的 relationMentions 字典\n",
    "    origin_line[\"relationMentions\"] = list(unique_relation_mentions)\n",
    "\n",
    "print(origin_lines)\n",
    "\n",
    "\n"
   ],
   "metadata": {
    "collapsed": false
   }
  },
  {
   "cell_type": "code",
   "execution_count": 1,
   "outputs": [
    {
     "ename": "NameError",
     "evalue": "name 'dict1' is not defined",
     "output_type": "error",
     "traceback": [
      "\u001B[0;31m---------------------------------------------------------------------------\u001B[0m",
      "\u001B[0;31mNameError\u001B[0m                                 Traceback (most recent call last)",
      "Cell \u001B[0;32mIn[1], line 4\u001B[0m\n\u001B[1;32m      1\u001B[0m origin \u001B[38;5;241m=\u001B[39m {\u001B[38;5;124m'\u001B[39m\u001B[38;5;124ma\u001B[39m\u001B[38;5;124m'\u001B[39m: \u001B[38;5;241m1\u001B[39m, \u001B[38;5;124m'\u001B[39m\u001B[38;5;124mb\u001B[39m\u001B[38;5;124m'\u001B[39m: \u001B[38;5;241m2\u001B[39m, \u001B[38;5;124m'\u001B[39m\u001B[38;5;124mc\u001B[39m\u001B[38;5;124m'\u001B[39m: \u001B[38;5;241m3\u001B[39m}\n\u001B[1;32m      2\u001B[0m dict2 \u001B[38;5;241m=\u001B[39m {\u001B[38;5;124m'\u001B[39m\u001B[38;5;124mb\u001B[39m\u001B[38;5;124m'\u001B[39m: \u001B[38;5;241m2\u001B[39m, \u001B[38;5;124m'\u001B[39m\u001B[38;5;124mc\u001B[39m\u001B[38;5;124m'\u001B[39m: \u001B[38;5;241m4\u001B[39m, \u001B[38;5;124m'\u001B[39m\u001B[38;5;124md\u001B[39m\u001B[38;5;124m'\u001B[39m: \u001B[38;5;241m5\u001B[39m}\n\u001B[0;32m----> 4\u001B[0m diff1 \u001B[38;5;241m=\u001B[39m {key: dict1[key] \u001B[38;5;28;01mfor\u001B[39;00m key \u001B[38;5;129;01min\u001B[39;00m \u001B[43mdict1\u001B[49m\u001B[38;5;241m.\u001B[39mkeys() \u001B[38;5;28;01mif\u001B[39;00m key \u001B[38;5;129;01mnot\u001B[39;00m \u001B[38;5;129;01min\u001B[39;00m dict2 \u001B[38;5;129;01mor\u001B[39;00m dict1[key] \u001B[38;5;241m!=\u001B[39m dict2[key]}\n\u001B[1;32m      5\u001B[0m diff2 \u001B[38;5;241m=\u001B[39m {key: dict2[key] \u001B[38;5;28;01mfor\u001B[39;00m key \u001B[38;5;129;01min\u001B[39;00m dict2\u001B[38;5;241m.\u001B[39mkeys() \u001B[38;5;28;01mif\u001B[39;00m key \u001B[38;5;129;01mnot\u001B[39;00m \u001B[38;5;129;01min\u001B[39;00m dict1 \u001B[38;5;129;01mor\u001B[39;00m dict1[key] \u001B[38;5;241m!=\u001B[39m dict2[key]}\n\u001B[1;32m      7\u001B[0m \u001B[38;5;28mprint\u001B[39m(\u001B[38;5;124m\"\u001B[39m\u001B[38;5;124mItems in dict1 but not in dict2:\u001B[39m\u001B[38;5;124m\"\u001B[39m, diff1)\n",
      "\u001B[0;31mNameError\u001B[0m: name 'dict1' is not defined"
     ]
    }
   ],
   "source": [
    "dict1 = {'a': 1, 'b': 2, 'c': 3}\n",
    "dict2 = {'b': 2, 'c': 4, 'd': 5}\n",
    "\n",
    "diff1 = {key: dict1[key] for key in dict1.keys() if key not in dict2 or dict1[key] != dict2[key]}\n",
    "diff2 = {key: dict2[key] for key in dict2.keys() if key not in dict1 or dict1[key] != dict2[key]}\n",
    "\n",
    "print(\"Items in dict1 but not in dict2:\", diff1)\n",
    "print(\"Items in dict2 but not in dict1:\", diff2)\n",
    "\n"
   ],
   "metadata": {
    "collapsed": false
   }
  },
  {
   "cell_type": "code",
   "execution_count": null,
   "outputs": [],
   "source": [],
   "metadata": {
    "collapsed": false
   }
  }
 ],
 "metadata": {
  "kernelspec": {
   "display_name": "cuda",
   "language": "python",
   "name": "python3"
  },
  "language_info": {
   "codemirror_mode": {
    "name": "ipython",
    "version": 3
   },
   "file_extension": ".py",
   "mimetype": "text/x-python",
   "name": "python",
   "nbconvert_exporter": "python",
   "pygments_lexer": "ipython3",
   "version": "3.8.12"
  },
  "orig_nbformat": 4
 },
 "nbformat": 4,
 "nbformat_minor": 2
}

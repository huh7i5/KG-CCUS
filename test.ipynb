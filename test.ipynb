{
 "cells": [
  {
   "attachments": {},
   "cell_type": "markdown",
   "metadata": {},
   "source": [
    "### Test Filter"
   ]
  },
  {
   "cell_type": "code",
   "execution_count": 8,
   "metadata": {},
   "outputs": [],
   "source": [
    "from transformers import AutoTokenizer\n",
    "import pprint"
   ]
  },
  {
   "cell_type": "code",
   "execution_count": 7,
   "metadata": {},
   "outputs": [],
   "source": [
    "examples = [\n",
    "    {\"sentText\": \"从海战和海损的实例来看，舰艇的损害主要表现在4个方面：一是舰艇破损进水，机电长①123，甚至倾覆或沉没；二是舰艇起火或爆炸；三是舰艇技术装备损坏；四是舰员被杀伤或毒害。在舰艇上，一切保障舰艇生命力的活动，称为舰艇损害管制，简称舰艇损管。舰艇损管主要是处置舰艇损害活动。《水面舰艇损害管制条例》规定：保障舰艇生命力是全体舰员共同的战斗职责；舰首长对全舰的损管工作实施组织指挥；机电长除领导本部门损管外，还应协助舰首长具体组织领导全舰性损管。因此，保障舰艇生命力的基本原则是全体舰指挥员必须掌握的，以便在平时能正确运用生命力观点分析掌握本舰艇的生命力状况，充分发挥其优点，避免和弥补其弱点，使舰艇具有最大的抵抗损害的能力，能正确地向舰员进行保障舰艇生命力方面的教育和组织损管训练。在舰艇发生损害的情况下，能熟练地运用保障舰艇生命力的基本原则和方法，沉着地组织领导舰员与破损灾害作斗争，取得损管的成功和战斗的胜利。例如在发生火灾后，利用构造上的防火防爆设施灭火装备和器材，限制火灾的蔓延，舰员合理发挥舰上防火防爆设施和灭火装备器材的作用，快速有效地消灭火灾，或将火灾造成的损失降至最低程度。同时，舰艇在战时受武器攻击或因海损事故而引起舰体破损进水\",\n",
    "        \"relations\": [\n",
    "            {\"em1Text\": \"舰首长\", \"em2Text\": \"保障舰艇生命力\", \"label\": \"职责\"},\n",
    "            {\"em1Text\": \"舰首长\", \"em2Text\": \"机电长\", \"label\": \"同事\"},\n",
    "            {\"em1Text\": \"舰首长\", \"em2Text\": \"机电长\", \"label\": \"下属\"},\n",
    "            {\"em1Text\": \"舰首长\", \"em2Text\": \"机电长\", \"label\": \"业务伙伴\"},\n",
    "            {\"em1Text\": \"舰首长\", \"em2Text\": \"123\", \"label\": \"业务伙伴\"}\n",
    "        ]\n",
    "    }\n",
    "]\n"
   ]
  },
  {
   "cell_type": "code",
   "execution_count": 13,
   "metadata": {},
   "outputs": [
    {
     "name": "stdout",
     "output_type": "stream",
     "text": [
      "object not in sentText\n",
      "object ['123']\n",
      "sentText ['从', '海', '战', '和', '海', '损', '的', '实', '例', '来', '看', '，', '舰', '艇', '的', '损', '害', '主', '要', '表', '现', '在', '4', '个', '方', '面', '：', '一', '是', '舰', '艇', '破', '损', '进', '水', '，', '机', '电', '长', '①', '##123', '，', '甚', '至', '倾', '覆', '或', '沉', '没', '；', '二', '是', '舰', '艇', '起', '火', '或', '爆', '炸', '；', '三', '是', '舰', '艇', '技', '术', '装', '备', '损', '坏', '；', '四', '是', '舰', '员', '被', '杀', '伤', '或', '毒', '害', '。', '在', '舰', '艇', '上', '，', '一', '切', '保', '障', '舰', '艇', '生', '命', '力', '的', '活', '动', '，', '称', '为', '舰', '艇', '损', '害', '管', '制', '，', '简', '称', '舰', '艇', '损', '管', '。', '舰', '艇', '损', '管', '主', '要', '是', '处', '置', '舰', '艇', '损', '害', '活', '动', '。', '《', '水', '面', '舰', '艇', '损', '害', '管', '制', '条', '例', '》', '规', '定', '：', '保', '障', '舰', '艇', '生', '命', '力', '是', '全', '体', '舰', '员', '共', '同', '的', '战', '斗', '职', '责', '；', '舰', '首', '长', '对', '全', '舰', '的', '损', '管', '工', '作', '实', '施', '组', '织', '指', '挥', '；', '机', '电', '长', '除', '领', '导', '本', '部', '门', '损', '管', '外', '，', '还', '应', '协', '助', '舰', '首', '长', '具', '体', '组', '织', '领', '导', '全', '舰', '性', '损', '管', '。', '因', '此', '，', '保', '障', '舰', '艇', '生', '命', '力', '的', '基', '本', '原', '则', '是', '全', '体', '舰', '指', '挥', '员', '必', '须', '掌', '握', '的', '，', '以', '便', '在', '平', '时', '能', '正', '确', '运', '用', '生', '命', '力', '观', '点', '分', '析', '掌', '握', '本', '舰', '艇', '的', '生', '命', '力', '状', '况', '，', '充', '分', '发', '挥', '其', '优', '点', '，', '避', '免', '和', '弥', '补', '其', '弱', '点', '，', '使', '舰', '艇', '具', '有', '最', '大', '的', '抵', '抗', '损', '害', '的', '能', '力', '，', '能', '正', '确', '地', '向', '舰', '员', '进', '行', '保', '障', '舰', '艇', '生', '命', '力', '方', '面', '的', '教', '育', '和', '组', '织', '损', '管', '训', '练', '。', '在', '舰', '艇', '发', '生', '损', '害', '的', '情', '况', '下', '，', '能', '熟', '练', '地', '运', '用', '保', '障', '舰', '艇', '生', '命', '力', '的', '基', '本', '原', '则', '和', '方', '法', '，', '沉', '着', '地', '组', '织', '领', '导', '舰', '员', '与', '破', '损', '灾', '害', '作', '斗', '争', '，', '取', '得', '损', '管', '的', '成', '功', '和', '战', '斗', '的', '胜', '利', '。', '例', '如', '在', '发', '生', '火', '灾', '后', '，', '利', '用', '构', '造', '上', '的', '防', '火', '防', '爆', '设', '施', '灭', '火', '装', '备', '和', '器', '材', '，', '限', '制', '火', '灾', '的', '蔓', '延', '，', '舰', '员', '合', '理', '发', '挥', '舰', '上', '防', '火', '防', '爆', '设', '施', '和', '灭', '火', '装', '备', '器', '材', '的', '作', '用', '，', '快', '速', '有', '效', '地', '消', '灭', '火', '灾', '，', '或', '将', '火', '灾', '造', '成', '的', '损', '失', '降', '至', '最', '低', '程', '度', '。', '同', '时', '，', '舰', '艇', '在', '战', '时', '受', '武', '器', '攻', '击', '或', '因', '海', '损', '事', '故', '而', '引', '起', '舰', '体', '破', '损', '进', '水']\n",
      "[{'sentText': '从海战和海损的实例来看，舰艇的损害主要表现在4个方面：一是舰艇破损进水，机电长①123，甚至倾覆或沉没；二是舰艇起火或爆炸；三是舰艇技术装备损坏；四是舰员被杀伤或毒害。在舰艇上，一切保障舰艇生命力的活动，称为舰艇损害管制，简称舰艇损管。舰艇损管主要是处置舰艇损害活动。《水面舰艇损害管制条例》规定：保障舰艇生命力是全体舰员共同的战斗职责；舰首长对全舰的损管工作实施组织指挥；机电长除领导本部门损管外，还应协助舰首长具体组织领导全舰性损管。因此，保障舰艇生命力的基本原则是全体舰指挥员必须掌握的，以便在平时能正确运用生命力观点分析掌握本舰艇的生命力状况，充分发挥其优点，避免和弥补其弱点，使舰艇具有最大的抵抗损害的能力，能正确地向舰员进行保障舰艇生命力方面的教育和组织损管训练。在舰艇发生损害的情况下，能熟练地运用保障舰艇生命力的基本原则和方法，沉着地组织领导舰员与破损灾害作斗争，取得损管的成功和战斗的胜利。例如在发生火灾后，利用构造上的防火防爆设施灭火装备和器材，限制火灾的蔓延，舰员合理发挥舰上防火防爆设施和灭火装备器材的作用，快速有效地消灭火灾，或将火灾造成的损失降至最低程度。同时，舰艇在战时受武器攻击或因海损事故而引起舰体破损进水', 'relations': [{'em1Text': '舰首长', 'em2Text': '保障舰艇生命力', 'label': '职责', 'em1Start': 167, 'em1End': 169, 'em2Start': 89, 'em2End': 95}, {'em1Text': '舰首长', 'em2Text': '机电长', 'label': '同事', 'em1Start': 167, 'em1End': 169, 'em2Start': 36, 'em2End': 38}, {'em1Text': '舰首长', 'em2Text': '机电长', 'label': '下属', 'em1Start': 167, 'em1End': 169, 'em2Start': 36, 'em2End': 38}, {'em1Text': '舰首长', 'em2Text': '机电长', 'label': '业务伙伴', 'em1Start': 167, 'em1End': 169, 'em2Start': 36, 'em2End': 38}]}]\n"
     ]
    }
   ],
   "source": [
    "model_name_or_path = \"D:\\\\Document\\\\PLMs\\\\Bert\\\\bert_origin\\\\bert-base-chinese\"\n",
    "\n",
    "tokenizer = AutoTokenizer.from_pretrained(model_name_or_path)\n",
    "\n",
    "\n",
    "for example in examples:\n",
    "    sent_tokens = tokenizer.tokenize(example[\"sentText\"])\n",
    "\n",
    "    relations = []\n",
    "    for relation in example[\"relations\"]:\n",
    "        sub_tokens = tokenizer.tokenize(relation[\"em1Text\"])\n",
    "        obj_tokens = tokenizer.tokenize(relation[\"em2Text\"])\n",
    "\n",
    "        # 1. 判断 subject 是否在句子中，长短数组匹配问题\n",
    "        sub_start = -1\n",
    "        sub_end = -1\n",
    "        for i in range(len(sent_tokens) - len(sub_tokens) + 1):\n",
    "            if sent_tokens[i:i+len(sub_tokens)] == sub_tokens:\n",
    "                sub_start = i\n",
    "                sub_end = i + len(sub_tokens) - 1\n",
    "                break\n",
    "\n",
    "        # 2. 判断 object 是否在句子中，长短数组匹配问题\n",
    "        obj_start = -1\n",
    "        obj_end = -1\n",
    "        for i in range(len(sent_tokens) - len(obj_tokens) + 1):\n",
    "            if sent_tokens[i:i+len(obj_tokens)] == obj_tokens:\n",
    "                obj_start = i\n",
    "                obj_end = i + len(obj_tokens) - 1\n",
    "                break\n",
    "\n",
    "        # 3. 判断 subject 和 object 是否在句子中，长短数组匹配问题\n",
    "        if sub_start == -1:\n",
    "            print(\"subject not in sentText\")\n",
    "            print(\"subject\", sub_tokens)\n",
    "            print(\"sentText\", sent_tokens)\n",
    "            continue\n",
    "\n",
    "        if obj_start == -1:\n",
    "            print(\"object not in sentText\")\n",
    "            print(\"object\", obj_tokens)\n",
    "            print(\"sentText\", sent_tokens)\n",
    "            continue\n",
    "\n",
    "        relations.append({\n",
    "            \"em1Text\": relation[\"em1Text\"],\n",
    "            \"em2Text\": relation[\"em2Text\"],\n",
    "            \"label\": relation[\"label\"],\n",
    "            \"em1Start\": sub_start,\n",
    "            \"em1End\": sub_end,\n",
    "            \"em2Start\": obj_start,\n",
    "            \"em2End\": obj_end\n",
    "        })\n",
    "\n",
    "    example[\"relations\"] = relations\n",
    "\n",
    "print(examples)\n"
   ]
  },
  {
   "cell_type": "code",
   "execution_count": 4,
   "metadata": {
    "collapsed": false
   },
   "outputs": [
    {
     "name": "stdout",
     "output_type": "stream",
     "text": [
      "{'0': [[4, 55, 55, 55, 55], [0, 55, 55, 55, 55], [9, 55, 55, 55, 55]], '1': [[8, 57, 58, 57, 58], [3, 57, 58, 58, 58]], '2': [[0, 20, 21, 16, 18]]}\n"
     ]
    }
   ],
   "source": [
    "# import pprint\n",
    "prediction = {\"0\": [[4, 0.5495180487632751, 55, 55, 0.9999977350234985, 0.9999980926513672, 55, 55, 0.9999979734420776, 0.9999988079071045], [0, 0.9934440851211548, 55, 55, 0.9999932050704956, 0.9999946355819702, 55, 55, 0.9999977350234985, 0.9999984502792358], [9, 0.5417826175689697, 55, 55, 0.9999922513961792, 0.9999926090240479, 55, 55, 0.9999972581863403, 0.9999977350234985]], \"1\": [[8, 0.7148820757865906, 57, 58, 0.9999133348464966, 0.9998661279678345, 57, 58, 0.9976715445518494, 0.9998111128807068], [3, 0.848729133605957, 57, 58, 0.9999371767044067, 0.9994823932647705, 58, 58, 0.9999376535415649, 0.9999954700469971]], \"2\": [[0, 0.9082260131835938, 20, 21, 0.9988471269607544, 0.9999650716781616, 16, 18, 0.9998642206192017, 0.9999357461929321]]}\n",
    "\n",
    "\n",
    "test_pred_lines = {}\n",
    "for key, values in prediction.items():\n",
    "    pred_relation = []\n",
    "    for value in values:\n",
    "        pred_rel = value[0]\n",
    "        head_start_index = value[2]\n",
    "        head_end_index = value[3]\n",
    "        tail_start_index = value[6]\n",
    "        tail_end_index = value[7]\n",
    "        pred_relation.append([pred_rel, head_start_index, head_end_index, tail_start_index, tail_end_index])\n",
    "    test_pred_lines.update({key: pred_relation})\n",
    "\n",
    "print(test_pred_lines)"
   ]
  },
  {
   "cell_type": "markdown",
   "metadata": {
    "collapsed": false
   },
   "source": []
  },
  {
   "cell_type": "code",
   "execution_count": null,
   "metadata": {
    "collapsed": false
   },
   "outputs": [],
   "source": [
    "test_line = {\"sentText\": \"In Queens , North Shore Towers , near the Nassau border , supplanted a golf course , and housing replaced a gravel quarry in Douglaston .\",\n",
    " \"relationMentions\": [{\"em1Text\": \"Queens\", \"em2Text\": \"Douglaston\", \"label\": \"/location/location/contains\"}, {\"em1Text\": \"Douglaston\", \"em2Text\": \"Queens\", \"label\": \"/location/neighborhood/neighborhood_of\"}]}\n",
    "\n",
    "{\"instance2index\": {\n",
    "    \"/location/location/contains\": 0,\n",
    "    \"/people/person/place_of_birth\": 1,\n",
    "    \"/business/person/company\": 2,\n",
    "    \"/people/person/place_lived\": 3,\n",
    "    \"/location/administrative_division/country\": 4,\n",
    "    \"/location/country/administrative_divisions\": 5,\n",
    "    \"/people/person/religion\": 6,\n",
    "    \"/people/person/nationality\": 7,\n",
    "    \"/people/person/children\": 8,\n",
    "\n",
    "  \"instances\": [\n",
    "    \"/location/location/contains\",\n",
    "    \"/people/person/place_of_birth\",\n",
    "    \"/business/person/company\",\n",
    "    \"/people/person/place_lived\",\n",
    "    \"/location/administrative_division/country\",\n",
    "    \"/location/country/administrative_divisions\",\n",
    "    \"/people/person/religion\",\n",
    "    \"/people/person/nationality\",\n",
    "  ]\n",
    "},"
   ]
  },
  {
   "cell_type": "code",
   "execution_count": null,
   "metadata": {
    "collapsed": false
   },
   "outputs": [],
   "source": [
    "# 假设 origin_lines 是一个包含字典的列表\n",
    "origin_lines = [{\"sentText\": \"In Queenss , North Shore Towers , near the Nassau border , supplanted a golf course , and housing replaced a gravel quarry in Douglaston .\",\n",
    "\"relationMentions\": [{\"em1Text\": \"Queens\", \"em2Text\": \"Douglaston\", \"label\": \"/location/location/contains\"},{\"em1Text\": \"Douglaston\", \"em2Text\": \"Queens\", \"label\": \"/location/neighborhood/neighborhood_of\"}]}],\n",
    "\n",
    "# 假设 pred_lines 是一个包含字典的列表\n",
    "pred_lines = [{\"relationMentions\": [{\"em1Text\": \"Queens\", \"em2Text\": \"Douglaston\", \"label\": \"/location/location/contains\"},\n",
    "                                    {\"em1Text\": \"Douglaston\", \"em2Text\": \"Queens\", \"label\": \"/location/neighborhood/neighborhood_of\"}]}\n",
    "              ]\n",
    "\n",
    "for origin_line in origin_lines:\n",
    "    # 获取 origin_line 中的 relationMentions 字典\n",
    "    origin_relation_mentions = origin_line[\"relationMentions\"]\n",
    "\n",
    "    # 使用 set 存储不重复的 relationMentions 字典\n",
    "    unique_relation_mentions = set(tuple(rm.items()) for rm in origin_relation_mentions)\n",
    "\n",
    "    # 遍历 pred_lines\n",
    "    for pred_line in pred_lines:\n",
    "        # 获取 pred_line 中的 relationMentions 字典\n",
    "        pred_relation_mentions = pred_line[\"relationMentions\"]\n",
    "\n",
    "        # 遍历 pred_relation_mentions 字典\n",
    "        for pred_rm in pred_relation_mentions:\n",
    "            # 如果 pred_rm 不在 unique_relation_mentions 中，则将其添加到 origin_relation_mentions 中\n",
    "            if tuple(pred_rm.items()) not in unique_relation_mentions:\n",
    "                origin_relation_mentions.append(pred_rm)\n",
    "                unique_relation_mentions.add(tuple(pred_rm.items()))\n",
    "\n",
    "    # 更新 origin_line 中的 relationMentions 字典\n",
    "    origin_line[\"relationMentions\"] = list(unique_relation_mentions)\n",
    "\n",
    "print(origin_lines)\n",
    "\n",
    "\n"
   ]
  },
  {
   "cell_type": "code",
   "execution_count": 1,
   "metadata": {
    "collapsed": false
   },
   "outputs": [
    {
     "ename": "NameError",
     "evalue": "name 'dict1' is not defined",
     "output_type": "error",
     "traceback": [
      "\u001B[0;31m---------------------------------------------------------------------------\u001B[0m",
      "\u001B[0;31mNameError\u001B[0m                                 Traceback (most recent call last)",
      "Cell \u001B[0;32mIn[1], line 4\u001B[0m\n\u001B[1;32m      1\u001B[0m origin \u001B[38;5;241m=\u001B[39m {\u001B[38;5;124m'\u001B[39m\u001B[38;5;124ma\u001B[39m\u001B[38;5;124m'\u001B[39m: \u001B[38;5;241m1\u001B[39m, \u001B[38;5;124m'\u001B[39m\u001B[38;5;124mb\u001B[39m\u001B[38;5;124m'\u001B[39m: \u001B[38;5;241m2\u001B[39m, \u001B[38;5;124m'\u001B[39m\u001B[38;5;124mc\u001B[39m\u001B[38;5;124m'\u001B[39m: \u001B[38;5;241m3\u001B[39m}\n\u001B[1;32m      2\u001B[0m dict2 \u001B[38;5;241m=\u001B[39m {\u001B[38;5;124m'\u001B[39m\u001B[38;5;124mb\u001B[39m\u001B[38;5;124m'\u001B[39m: \u001B[38;5;241m2\u001B[39m, \u001B[38;5;124m'\u001B[39m\u001B[38;5;124mc\u001B[39m\u001B[38;5;124m'\u001B[39m: \u001B[38;5;241m4\u001B[39m, \u001B[38;5;124m'\u001B[39m\u001B[38;5;124md\u001B[39m\u001B[38;5;124m'\u001B[39m: \u001B[38;5;241m5\u001B[39m}\n\u001B[0;32m----> 4\u001B[0m diff1 \u001B[38;5;241m=\u001B[39m {key: dict1[key] \u001B[38;5;28;01mfor\u001B[39;00m key \u001B[38;5;129;01min\u001B[39;00m \u001B[43mdict1\u001B[49m\u001B[38;5;241m.\u001B[39mkeys() \u001B[38;5;28;01mif\u001B[39;00m key \u001B[38;5;129;01mnot\u001B[39;00m \u001B[38;5;129;01min\u001B[39;00m dict2 \u001B[38;5;129;01mor\u001B[39;00m dict1[key] \u001B[38;5;241m!=\u001B[39m dict2[key]}\n\u001B[1;32m      5\u001B[0m diff2 \u001B[38;5;241m=\u001B[39m {key: dict2[key] \u001B[38;5;28;01mfor\u001B[39;00m key \u001B[38;5;129;01min\u001B[39;00m dict2\u001B[38;5;241m.\u001B[39mkeys() \u001B[38;5;28;01mif\u001B[39;00m key \u001B[38;5;129;01mnot\u001B[39;00m \u001B[38;5;129;01min\u001B[39;00m dict1 \u001B[38;5;129;01mor\u001B[39;00m dict1[key] \u001B[38;5;241m!=\u001B[39m dict2[key]}\n\u001B[1;32m      7\u001B[0m \u001B[38;5;28mprint\u001B[39m(\u001B[38;5;124m\"\u001B[39m\u001B[38;5;124mItems in dict1 but not in dict2:\u001B[39m\u001B[38;5;124m\"\u001B[39m, diff1)\n",
      "\u001B[0;31mNameError\u001B[0m: name 'dict1' is not defined"
     ]
    }
   ],
   "source": [
    "dict1 = {'a': 1, 'b': 2, 'c': 3}\n",
    "dict2 = {'b': 2, 'c': 4, 'd': 5}\n",
    "\n",
    "diff1 = {key: dict1[key] for key in dict1.keys() if key not in dict2 or dict1[key] != dict2[key]}\n",
    "diff2 = {key: dict2[key] for key in dict2.keys() if key not in dict1 or dict1[key] != dict2[key]}\n",
    "\n",
    "print(\"Items in dict1 but not in dict2:\", diff1)\n",
    "print(\"Items in dict2 but not in dict1:\", diff2)\n",
    "\n"
   ]
  },
  {
   "attachments": {},
   "cell_type": "markdown",
   "metadata": {},
   "source": [
    "# 图谱"
   ]
  },
  {
   "cell_type": "code",
   "execution_count": 21,
   "metadata": {
    "collapsed": false
   },
   "outputs": [],
   "source": [
    "import os\n",
    "import json\n",
    "import numpy as np\n",
    "kg_path = \"data/project_v1/base_refined.json\"\n",
    "\n",
    "with open(kg_path, \"r\", encoding=\"utf-8\") as f:\n",
    "    kg = [json.loads(line) for line in f.readlines()]\n",
    "\n",
    "# {\"id\": 0, \"sentText\": \"从海战和海损的实例来看，舰艇的损害主要表现在4个方面一是舰艇破损进水，甚至倾覆或沉没；二是舰艇起火或爆炸；三是舰艇技术装备损坏；四是舰员被杀伤或毒害 在舰艇上，一切保障舰艇生命力的活动，称为舰艇损害管制，简称舰艇损管 舰艇损管主要是处置舰艇损害活动 《水面舰艇损害管制条例》规定保障舰艇生命力是全体舰员共同的战斗职责；舰首长对全舰的损管工作实施组织指挥；机电长除领导本部门损管外，还应协助舰首长具体组织领导全舰性损管 因此，保障舰艇生命力的基本原则是全体舰指挥员必须掌握的，以便在平时能正确运用生命力观点分析掌握本舰艇的生命力状况，充分发挥其优点，避免和弥补其弱点，使舰艇具有最大的抵抗损害的能力，能正确地向舰员进行保障舰艇生命力方面的教育和组织损管训练 在舰艇发生损害的情况下，能熟练地运用保障舰艇生命力的基本原则和方法，沉着地组织领导舰员与破损灾害作斗争，取得损管的成功和战斗的胜利\", \"relationMentions\": [{\"em1Text\": \"舰艇起火或爆炸\", \"em2Text\": \"弱点\", \"label\": \"避免\"}]}\n",
    "# {\"id\": 1, \"sentText\": \"例如在发生火灾后，利用构造上的防火防爆设施灭火装备和器材，限制火灾的蔓延，舰员合理发挥舰上防火防爆设施和灭火装备器材的作用，快速有效地消灭火灾，或将火灾造成的损失降至最低程度 同时，舰艇在战时受武器攻击或因海损事故而引起舰体破损进水，当舰体水下部分出现破损或需要进行维护保养时，必须运用潜水技术去成 日常工作中，对海底门船舷孔声呐和测深仪等水下装置进行检查清洁，清除舵螺旋桨上的障碍物，都将运用潜水技术 《水面舰艇损害管制条例》中规定掌握潜水技能是海军舰艇部队人员不可缺少的军事技能之一 因此舰员在做好舰艇维护，成舰艇损害管制的同时，必须掌握一定的潜水作业技能，有计划地开展潜水训练，不断提高舰员的潜水技术和水下作业能力，以便更全面地掌握舰艇损管技能，使舰艇全方位处于良好的备便状态 舰艇损管概述舰艇作为海军的重要武器装备平台，是海军战斗力的主要组成部分，其使命是以战斗的方式消灭敌方人员或削弱装备 因此，舰艇作为海上作战的人机综合武备系统，具有三种性能航海性能进攻性能和防御性能 舰艇战斗力的两个最大特性是战斗特性和使用特性\", \"relationMentions\": [{\"em1Text\": \"火灾\", \"em2Text\": \"防火防爆设施\", \"label\": \"灭火器材\"}, {\"em1Text\": \"火灾\", \"em2Text\": \"舰员\", \"label\": \"维护人员\"}, {\"em1Text\": \"火灾\", \"em2Text\": \"舰员\", \"label\": \"救援人员\"}, {\"em1Text\": \"测深仪\", \"em2Text\": \"舰员\", \"label\": \"保养人员\"}, {\"em1Text\": \"测深仪\", \"em2Text\": \"舰员\", \"label\": \"清洁人员\"}, {\"em1Text\": \"测深仪\", \"em2Text\": \"舰员\", \"label\": \"设备保养员\"}, {\"em1Text\": \"测深仪\", \"em2Text\": \"舰员\", \"label\": \"维护人员\"}, {\"em1Text\": \"测深仪\", \"em2Text\": \"清洁\", \"label\": \"检查\"}, {\"em1Text\": \"水下装置\", \"em2Text\": \"舰员\", \"label\": \"保养人员\"}, {\"em1Text\": \"水下装置\", \"em2Text\": \"火灾\", \"label\": \"灭火\"}, {\"em1Text\": \"水下装置\", \"em2Text\": \"舰员\", \"label\": \"清洁人员\"}, {\"em1Text\": \"水下装置\", \"em2Text\": \"舰员\", \"label\": \"设备保养员\"}, {\"em1Text\": \"水下装置\", \"em2Text\": \"舰员\", \"label\": \"维护人员\"}, {\"em1Text\": \"水下装置\", \"em2Text\": \"航海性能\", \"label\": \"设备性能指标\"}, {\"em1Text\": \"水下装置\", \"em2Text\": \"航海性能\", \"label\": \"性能指标\"}, {\"em1Text\": \"水下装置\", \"em2Text\": \"清洁\", \"label\": \"安全检查\"}, {\"em1Text\": \"水下装置\", \"em2Text\": \"清洁\", \"label\": \"检查\"}, {\"em1Text\": \"海底门船舷孔声呐\", \"em2Text\": \"舰员\", \"label\": \"使用人员\"}, {\"em1Text\": \"海底门船舷孔声呐\", \"em2Text\": \"舰员\", \"label\": \"保养人员\"}, {\"em1Text\": \"海底门船舷孔声呐\", \"em2Text\": \"火灾\", \"label\": \"灭火\"}, {\"em1Text\": \"海底门船舷孔声呐\", \"em2Text\": \"舰员\", \"label\": \"清洁人员\"}, {\"em1Text\": \"海底门船舷孔声呐\", \"em2Text\": \"舰员\", \"label\": \"设备保养员\"}, {\"em1Text\": \"海底门船舷孔声呐\", \"em2Text\": \"舰员\", \"label\": \"维护人员\"}, {\"em1Text\": \"海底门船舷孔声呐\", \"em2Text\": \"航海性能\", \"label\": \"性能指标\"}, {\"em1Text\": \"海底门船舷孔声呐\", \"em2Text\": \"清洁\", \"label\": \"安全检查\"}, {\"em1Text\": \"海底门船舷孔声呐\", \"em2Text\": \"清洁\", \"label\": \"检查\"}, {\"em1Text\": \"舵螺旋桨\", \"em2Text\": \"障碍物\", \"label\": \"拆除\"}, {\"em1Text\": \"舵螺旋桨\", \"em2Text\": \"障碍物\", \"label\": \"清洁\"}, {\"em1Text\": \"舵螺旋桨\", \"em2Text\": \"舰员\", \"label\": \"保养人员\"}, {\"em1Text\": \"舵螺旋桨\", \"em2Text\": \"火灾\", \"label\": \"灭火\"}, {\"em1Text\": \"舵螺旋桨\", \"em2Text\": \"舰员\", \"label\": \"清洁人员\"}, {\"em1Text\": \"舵螺旋桨\", \"em2Text\": \"舰员\", \"label\": \"设备保养员\"}, {\"em1Text\": \"舵螺旋桨\", \"em2Text\": \"舰员\", \"label\": \"维护人员\"}, {\"em1Text\": \"舵螺旋桨\", \"em2Text\": \"航海性能\", \"label\": \"性能指标\"}, {\"em1Text\": \"防火防爆设施\", \"em2Text\": \"舰员\", \"label\": \"保养人员\"}, {\"em1Text\": \"防火防爆设施\", \"em2Text\": \"舰员\", \"label\": \"清洁人员\"}, {\"em1Text\": \"防火防爆设施\", \"em2Text\": \"舰员\", \"label\": \"设备保养员\"}, {\"em1Text\": \"防火防爆设施\", \"em2Text\": \"舰员\", \"label\": \"维护人员\"}, {\"em1Text\": \"防火防爆设施\", \"em2Text\": \"航海性能\", \"label\": \"性能指标\"}, {\"em1Text\": \"防火防爆设施\", \"em2Text\": \"火灾\", \"label\": \"事故类型\"}, {\"em1Text\": \"防火防爆设施\", \"em2Text\": \"清洁\", \"label\": \"检查\"}, {\"em1Text\": \"测深仪\", \"em2Text\": \"舰员\", \"label\": \"保养人员\"}, {\"em1Text\": \"测深仪\", \"em2Text\": \"舰员\", \"label\": \"清洁人员\"}, {\"em1Text\": \"测深仪\", \"em2Text\": \"舰员\", \"label\": \"保养员\"}, {\"em1Text\": \"测深仪\", \"em2Text\": \"舰员\", \"label\": \"维护人员\"}, {\"em1Text\": \"测深仪\", \"em2Text\": \"清洁\", \"label\": \"检查\"}]}\n",
    "# {\"id\": 2, \"sentText\": \"战斗特性又分为打击特性打击力和战斗稳定性防护性 打击特性是指舰艇消灭或削弱敌方力量的能力 战斗稳定性是指在敌方攻击下舰艇保持战斗力的能力 舰艇战斗稳定性主要由隐蔽性抗击性坚固性耐损性抗损性和恢复能力来保证 在作战环境和日常使用条件下，为保障舰艇生命力，提高舰艇的战斗稳定性和使用特性，必须采取一系列措施和开展一系列工作，这就是舰艇损管 舰艇损管既是保障舰艇安全提高舰艇战斗力的必要措施，同时也是舰艇战斗力的重要组成部分，全舰指战员都必须高度重视舰艇的损管工作 在舰艇发生损害时，每名舰员应能熟练地运用保障舰艇生命力的基本原则和方法，沉着冷静地与损害做斗争，取得损管的成功和战斗的胜利 舰艇损管的的是保障舰艇生命力 舰艇生命力是指舰艇抵抗各种损害，最大限度地保持和恢复其航行与作战的能力 舰艇损管一是要设法防止和避免损害的发生，或者使破损灾害发生的可能性降到最低；二是在损害发生后，极力限制破损灾害的扩散蔓延；三是在限制的基础上，尽快消除损害所产生的不良影响，舰艇上发生损害具有一定的随机性，任何部位都有可能发生\", \"relationMentions\": []}\n",
    "# {\"id\": 3, \"sentText\": \"损害形式具有多样性既可能发生单一类型的损害，如舱室破损进水舱室火灾技术装备损坏；也可能发生多种类型的损害，如舱室破损进水造成电器设备短路而引发火灾舱室破损进水被淹没而导致舱室内技术装备损坏失效舱室火灾导致舱内技术装备的损坏失效等 而且舰艇损害的程度也呈随机性，可能是舰体局部性破损大面积破损或全舰性破损，单舱破损进水多舱破损进水严重破损进水，舱内部分技术装备损坏失效全部技术装备损坏失效多个舱室内技术装备同时损坏失效，舱室局部发生火灾多个舱室同时发生火灾或全舰性大火等 战时有些舱室有人，有些舱室无人，不管舱室内有无人员，发生损害后都需要抢救，而且损害形式多种多样，需要各种专业人员去抢救，及时正确迅速有效地处置和消除损害是建立舰艇损管组织的主要出发点 对舰艇可能发生的损害情况进行分析，如果能使损管组织达到处处损害有人管，样样损害有人干，就有可能准确及时迅速有效地实施舰艇损管达到限制消除各种损害的的\", \"relationMentions\": []}\n",
    "# {\"id\": 4, \"sentText\": \"舰艇损管的成效主要由人员的训练水平和损管指挥的善程度保证，损管指挥的善本身又由舰艇现行损管组织体系和指挥员成损管职责的训练水平决定舰艇上损管的最高指挥员是舰首长，各指挥员正确及时的指挥可以拯救舰艇和全体舰员，而笨拙和不果断的损管指挥可能导致舰员们正确果断的损管措施化为乌有 全体舰员动作的成效很大程度上正是取决于各指挥员的损管指挥水平 长期以来，世界各国对舰艇损管都给予了高度的重视 现代战争中，装备的自动化程度日益提高，舰艇遭受损害的方式及类型与以前也有了一定的差异 部分国家在损管人员器材通信及组织与训练上已有了较为成熟的经验 战时实施损管应首先考虑有利于保障舰艇的生命力，并以限制损害扩散蔓延为第一任务 快速灵活地处置损害，限制损害造成的影响，保持舰艇不沉性是根本的 前很多舰艇已经装备了损管自动化系统，建立与之相适应的损管组织与训练管理机制对成功地成损管将有重大意义 舰艇损管与其他的作战单元不同，作为成损管任务的核心因素应该被充分重视这也是舰艇损管不同于其他作战科的关键所在\", \"relationMentions\": []}\n",
    "# {\"id\": 5, \"sentText\": \"因此，在舰艇上设置一支快捷高效的损管机构要以人为本，善损管组织，加强损管训练，提高损管指挥水平，熟练灵活地使用各种损管器材 潜水技术发展概况潜水是指釆取一定的方式，按照一定的方法和步骤，主动地从水面没入水面以下，下潜到达水底或的深度后逗留一段时程，从事一定的活动，又从水底或的深度离开，经过一定的规程，最后返回水面 舰艇潜水作业是水面舰员或兼职潜水员利用潜水装具在舰艇范围内进行水下作业的总称，其主要任务是正确熟练地使用潜水装具和设备，及时成舰艇水下所有装置设备的维护保养修理工作和损害管制等任务，以保障舰艇生命力，恢复战斗力 具体潜水作业内容包括五方面 一是检查水下设备 在日常勤务工作中，对舰艇推进器舵减摇鳍海底门等水下设备进行日常检查和维护保养 二是搜救落水人员 在潜水装具允许的深度范围，对落水人员失事区域展开搜索援救 三是清除水下障碍 及时清除缠绕在舰艇水下设备上的渔网缆绳及其他障碍物 四是成水下抢修 当舰艇受损后，及时进行管路包扎水下堵漏及保障舰艇生命力的所有水下损管工作 五是打捞水下沉物\", \"relationMentions\": [{\"em1Text\": \"海底门\", \"em2Text\": \"生命力\", \"label\": \"设备性能指标\"}, {\"em1Text\": \"水下设备\", \"em2Text\": \"生命力\", \"label\": \"设备性能指标\"}, {\"em1Text\": \"潜水装具\", \"em2Text\": \"战斗力\", \"label\": \"恢复\"}]}\n",
    "# {\"id\": 6, \"sentText\": \"主要是在港口浅海等潜水装具允许下潜深度范围内，打捞从舰艇上不慎落入水中的仪器设备及其他重要物品 潜水是人类从事开采救捞或军事等活动，以及通过探索研究开拓知识领域的需要而必然产生的 潜水技术发展的历史，就是围绕着解决潜水员在水下各种医学生理学问题而发明创造和改进不同的潜水装具和设备，使潜水深度时间不断增加，提高水下工作效率 潜水技术的发展过程中，形成了不同的潜水方式 一屏气潜水屏气潜水11是一种原始的潜水方式，下潜者主动暂时停止自主呼吸而潜入水中，在耐受极限前返回水面恢复正常呼吸动作 我国最早记载潜水的文字，见于《诗经》中汉之广矣，不可泳思，就其浅兮，泳之游之当时由于防护条件较差，官府为了避免人们在急流中溺水，还曾颁布禁川游的法令 屏气潜水最明显的限制是潜水员吸入的气体太少，潜水时间太短 且屏气潜水一般都是裸潜，不穿保暖服装，因此不可能在水温低的水域进行 有利因素是屏气潜水简单方便可动性较好，在一定的条件下仍不失为一种有用的潜水方式 日本等地潜水釆珠女，采用屏气潜水方式入海采拾珠贝可达40m深\", \"relationMentions\": [{\"em1Text\": \"重要物品\", \"em2Text\": \"生理学\", \"label\": \"潜水医学\"}, {\"em1Text\": \"重要物品\", \"em2Text\": \"开拓知识领域\", \"label\": \"水下特种材料研究\"}]}\n",
    "# {\"id\": 7, \"sentText\": \"屏气潜水也曾被用于军事作业，在西班牙战舰上，彳艮长时期都设有不使用潜水呼吸装置的潜水游泳专职人员 现代屏气潜水的的大体包括娱乐作业和竞技三个方面 而作为一项竞技运动，自由潜水或称竞技潜水正被越来越多的人所喜欢\", \"relationMentions\": [{\"em1Text\": \"潜水呼吸装置\", \"em2Text\": \"潜水游泳专职人员\", \"label\": \"使用人员\"}, {\"em1Text\": \"潜水呼吸装置\", \"em2Text\": \"潜水游泳专职人员\", \"label\": \"使用人员\"}]}\n"
   ]
  },
  {
   "cell_type": "code",
   "execution_count": 31,
   "metadata": {},
   "outputs": [],
   "source": [
    "def get_nodes_edges_sents(kg):\n",
    "    nodes = []\n",
    "    edges = []\n",
    "    sents = []\n",
    "\n",
    "    node_names = []\n",
    "    for item in kg:\n",
    "        # add sent lines\n",
    "        sents.append(item['sentText'])\n",
    "        for triple in item['relationMentions']:\n",
    "            # sub entity\n",
    "            sub_node, node_names, nodes = get_node_item(\"em1Text\", nodes, sents, node_names, triple)\n",
    "            obj_node, node_names, nodes = get_node_item(\"em2Text\", nodes, sents, node_names, triple)\n",
    "\n",
    "            # relation\n",
    "            new_edge = {\n",
    "                'source': sub_node['id'],\n",
    "                'target': obj_node['id'],\n",
    "                'name': triple['label'],\n",
    "                'sent': sents.index(item['sentText']),\n",
    "            }\n",
    "            if new_edge not in edges:\n",
    "                edges.append(new_edge)\n",
    "\n",
    "    return nodes, edges, sents\n",
    "\n",
    "def get_node_item(name, nodes, sents, node_names, triple):\n",
    "    if triple[name] not in node_names:\n",
    "        sub_node = {\n",
    "            'id': str(len(nodes)),\n",
    "            'name': triple[name],\n",
    "            'category': np.random.randint(0, 5),\n",
    "            'draggable': True,\n",
    "            \"value\": 1,\n",
    "            'lines': [len(sents) - 1],\n",
    "        }\n",
    "        nodes.append(sub_node)\n",
    "        node_names.append(triple[name])\n",
    "    else:\n",
    "        sub_node = nodes[node_names.index(triple[name])]\n",
    "        sub_node['value'] += 1\n",
    "        if len(sents) - 1 not in sub_node['lines']:\n",
    "            sub_node['lines'].append(len(sents) - 1)\n",
    "\n",
    "    return sub_node, node_names, nodes\n"
   ]
  },
  {
   "cell_type": "code",
   "execution_count": 32,
   "metadata": {},
   "outputs": [],
   "source": [
    "nodes, edges, sents = get_nodes_edges_sents(kg)\n",
    "\n",
    "for node in nodes:\n",
    "    node['symbolSize'] = np.log(node['value'] + 1) * 10\n",
    "\n",
    "categories = [{ \"name\": \"All\" }, { \"name\": \"Typa A\" }, { \"name\": \"Type B\" }, { \"name\": \"Type C\" }, { \"name\": \"Type D\" }, { \"name\": \"Type E\"}]\n",
    "\n",
    "data = {\n",
    "    'nodes': nodes,\n",
    "    'links': edges,\n",
    "    'sents': sents,\n",
    "    'categories': categories,\n",
    "}\n",
    "\n",
    "with open('server/data/data.json', 'w', encoding='utf-8') as f:\n",
    "    json.dump(data, f, ensure_ascii=False, indent=4)"
   ]
  },
  {
   "cell_type": "code",
   "execution_count": null,
   "metadata": {},
   "outputs": [],
   "source": []
  },
  {
   "cell_type": "code",
   "execution_count": null,
   "metadata": {},
   "outputs": [],
   "source": []
  },
  {
   "cell_type": "code",
   "execution_count": null,
   "metadata": {},
   "outputs": [],
   "source": []
  }
 ],
 "metadata": {
  "kernelspec": {
   "display_name": "cuda",
   "language": "python",
   "name": "python3"
  },
  "language_info": {
   "codemirror_mode": {
    "name": "ipython",
    "version": 3
   },
   "file_extension": ".py",
   "mimetype": "text/x-python",
   "name": "python",
   "nbconvert_exporter": "python",
   "pygments_lexer": "ipython3",
   "version": "3.10.9"
  },
  "orig_nbformat": 4
 },
 "nbformat": 4,
 "nbformat_minor": 2
}
